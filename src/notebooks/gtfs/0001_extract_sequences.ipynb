{
 "cells": [
  {
   "cell_type": "code",
   "execution_count": 1,
   "id": "dying-chicago",
   "metadata": {},
   "outputs": [],
   "source": [
    "from collections import Counter\n",
    "from tqdm import tqdm\n",
    "import json\n",
    "import pandas as pd\n",
    "\n",
    "import warnings\n",
    "warnings.filterwarnings('ignore')\n",
    "%matplotlib inline"
   ]
  },
  {
   "cell_type": "code",
   "execution_count": 2,
   "id": "accredited-emission",
   "metadata": {},
   "outputs": [],
   "source": [
    "CRS_LATLON = 'EPSG:4326'\n",
    "DATA_DIR = '../../../data'\n",
    "EXPORTS_DIR = f'{DATA_DIR}/exports'"
   ]
  },
  {
   "cell_type": "code",
   "execution_count": 3,
   "id": "incredible-square",
   "metadata": {},
   "outputs": [],
   "source": [
    "def peek(df):\n",
    "    print(len(df))\n",
    "    display(df.iloc[:3])"
   ]
  },
  {
   "cell_type": "code",
   "execution_count": 4,
   "id": "simplified-worth",
   "metadata": {},
   "outputs": [
    {
     "ename": "NameError",
     "evalue": "name 'pd' is not defined",
     "output_type": "error",
     "traceback": [
      "\u001b[0;31m---------------------------------------------------------------------------\u001b[0m",
      "\u001b[0;31mNameError\u001b[0m                                 Traceback (most recent call last)",
      "\u001b[0;32m<ipython-input-4-f7b6e89fc0b6>\u001b[0m in \u001b[0;36m<module>\u001b[0;34m\u001b[0m\n\u001b[1;32m      1\u001b[0m \u001b[0;31m# Extract stops used for each trip.\u001b[0m\u001b[0;34m\u001b[0m\u001b[0;34m\u001b[0m\u001b[0;34m\u001b[0m\u001b[0m\n\u001b[0;32m----> 2\u001b[0;31m \u001b[0mstop_times_df\u001b[0m \u001b[0;34m=\u001b[0m \u001b[0mpd\u001b[0m\u001b[0;34m.\u001b[0m\u001b[0mread_csv\u001b[0m\u001b[0;34m(\u001b[0m\u001b[0;34mf'{DATA_DIR}/gtfs/manhattan/stop_times.txt'\u001b[0m\u001b[0;34m)\u001b[0m\u001b[0;34m\u001b[0m\u001b[0;34m\u001b[0m\u001b[0m\n\u001b[0m\u001b[1;32m      3\u001b[0m \u001b[0mstop_times_df\u001b[0m \u001b[0;34m=\u001b[0m \u001b[0mstop_times_df\u001b[0m\u001b[0;34m[\u001b[0m\u001b[0;34m[\u001b[0m\u001b[0;34m'trip_id'\u001b[0m\u001b[0;34m,\u001b[0m \u001b[0;34m'stop_id'\u001b[0m\u001b[0;34m]\u001b[0m\u001b[0;34m]\u001b[0m\u001b[0;34m\u001b[0m\u001b[0;34m\u001b[0m\u001b[0m\n\u001b[1;32m      4\u001b[0m \u001b[0mpeek\u001b[0m\u001b[0;34m(\u001b[0m\u001b[0mstop_times_df\u001b[0m\u001b[0;34m)\u001b[0m\u001b[0;34m\u001b[0m\u001b[0;34m\u001b[0m\u001b[0m\n",
      "\u001b[0;31mNameError\u001b[0m: name 'pd' is not defined"
     ]
    }
   ],
   "source": [
    "# Extract stops used for each trip.\n",
    "stop_times_df = pd.read_csv(f'{DATA_DIR}/gtfs/manhattan/stop_times.txt')\n",
    "stop_times_df = stop_times_df[['trip_id', 'stop_id']]\n",
    "peek(stop_times_df)"
   ]
  },
  {
   "cell_type": "code",
   "execution_count": null,
   "id": "supreme-nomination",
   "metadata": {},
   "outputs": [],
   "source": [
    "# Convert to/from a stop sequence.\n",
    "def serialize_stop_ids(stop_ids):\n",
    "    return ','.join([str(s) for s in stop_ids])\n",
    "def deserialize_stop_ids(stop_ids):\n",
    "    return [int(s) for s in stop_ids.split(',')]"
   ]
  },
  {
   "cell_type": "code",
   "execution_count": null,
   "id": "legal-aaron",
   "metadata": {},
   "outputs": [],
   "source": [
    "# Create dictionary of trip ID to stop sequence.\n",
    "trip_id_stop_ids_dict = stop_times_df.groupby('trip_id').apply(\n",
    "    lambda x: list(x['stop_id'])).to_dict()\n",
    "\n",
    "# Serialize stop sequences.\n",
    "trip_id_stops_key_dict = {\n",
    "    trip_id: serialize_stop_ids(stop_ids)\n",
    "    for trip_id, stop_ids in trip_id_stop_ids_dict.items()\n",
    "}\n",
    "\n",
    "# Map stop sequences to list of matching trips.\n",
    "stops_key_trip_ids_dict = {}\n",
    "for trip_id, stops_key in trip_id_stops_key_dict.items():\n",
    "    if stops_key not in stops_key_trip_ids_dict:\n",
    "        stops_key_trip_ids_dict[stops_key] = []\n",
    "    stops_key_trip_ids_dict[stops_key].append(trip_id)"
   ]
  },
  {
   "cell_type": "code",
   "execution_count": null,
   "id": "intended-niagara",
   "metadata": {},
   "outputs": [],
   "source": [
    "# Extract information for each trip.\n",
    "trips_df = pd.read_csv(f'{DATA_DIR}/gtfs/manhattan/trips.txt')\n",
    "trips_df = trips_df.set_index('trip_id')\n",
    "trip_id_route_id_dict = trips_df['route_id'].to_dict()\n",
    "peek(trips_df)"
   ]
  },
  {
   "cell_type": "code",
   "execution_count": null,
   "id": "laughing-metadata",
   "metadata": {},
   "outputs": [],
   "source": [
    "def most_common(list):\n",
    "    \"\"\"Returns the most common value in the given list.\"\"\"\n",
    "    counts = Counter(list)\n",
    "    return counts.most_common(1)[0][0]"
   ]
  },
  {
   "cell_type": "code",
   "execution_count": null,
   "id": "refined-plastic",
   "metadata": {},
   "outputs": [],
   "source": [
    "class Sequence:\n",
    "    def __init__(self, stop_ids, trip_ids, trips_df):\n",
    "        self.stop_ids = stop_ids\n",
    "        self.trip_ids = trip_ids\n",
    "        self.set_attributes(trips_df)\n",
    "\n",
    "    def get_most_common(self, trips_df, column):\n",
    "        \"\"\"Returns the most common value of the given column for this\n",
    "        sequence.\"\"\"\n",
    "        values = [trips_df.loc[trip_id][column] for trip_id in self.trip_ids]\n",
    "        return most_common(values)\n",
    "        \n",
    "    def set_attributes(self, trips_df):\n",
    "        \"\"\"Assign attributes to this sequence based on the attribute that\n",
    "        appears most often in matching trips. For example, if the majority of\n",
    "        trips with this stop sequence have a route ID \"M15\", then this sequence\n",
    "        of stops will be labelled as having an \"M15\" route ID. This is necessary\n",
    "        due to mislabelled attributes.\"\"\"\n",
    "        self.direction_id = self.get_most_common(trips_df, 'direction_id')\n",
    "        self.route_id = self.get_most_common(trips_df, 'route_id')\n",
    "        self.service_id = self.get_most_common(trips_df, 'service_id')\n",
    "        self.trip_headsign = self.get_most_common(trips_df, 'trip_headsign')\n",
    "        self.shape_id = self.get_most_common(trips_df, 'shape_id')\n",
    "    \n",
    "    def to_dict(self):\n",
    "        return {\n",
    "            'direction_id': int(self.direction_id),\n",
    "            'route_id': self.route_id,\n",
    "            'service_id': self.trip_headsign,\n",
    "            'shape_id': self.shape_id,\n",
    "            'stop_ids': [int(s) for s in self.stop_ids],\n",
    "            'trip_headsign': self.trip_headsign,\n",
    "            'trip_ids': self.trip_ids,\n",
    "        }"
   ]
  },
  {
   "cell_type": "code",
   "execution_count": null,
   "id": "eight-compatibility",
   "metadata": {},
   "outputs": [],
   "source": [
    "# Create sequences from map of stops and matching trips.\n",
    "sequences = [\n",
    "    Sequence(deserialize_stops(stops_key), trip_ids, trips_df)\n",
    "    for stops_key, trip_ids in tqdm(stops_key_trip_ids_dict.items())\n",
    "]"
   ]
  },
  {
   "cell_type": "code",
   "execution_count": null,
   "id": "cathedral-montreal",
   "metadata": {},
   "outputs": [],
   "source": [
    "# Export sequences to JSON.\n",
    "with open(f'{EXPORTS_DIR}/json/manhattan/sequences.json', 'w') as fp:\n",
    "    sequence_dicts = [s.to_dict() for s in sequences]\n",
    "    json.dump(sequence_dicts, fp)"
   ]
  }
 ],
 "metadata": {
  "kernelspec": {
   "display_name": "Python 3",
   "language": "python",
   "name": "python3"
  },
  "language_info": {
   "codemirror_mode": {
    "name": "ipython",
    "version": 3
   },
   "file_extension": ".py",
   "mimetype": "text/x-python",
   "name": "python",
   "nbconvert_exporter": "python",
   "pygments_lexer": "ipython3",
   "version": "3.7.6"
  }
 },
 "nbformat": 4,
 "nbformat_minor": 5
}
