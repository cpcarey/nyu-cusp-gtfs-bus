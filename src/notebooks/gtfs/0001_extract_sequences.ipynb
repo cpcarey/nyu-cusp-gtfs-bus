{
 "cells": [
  {
   "cell_type": "code",
   "execution_count": 1,
   "id": "apart-interference",
   "metadata": {},
   "outputs": [
    {
     "name": "stderr",
     "output_type": "stream",
     "text": [
      "/home/chriscarey/miniconda3/envs/mlc/lib/python3.7/site-packages/geopandas/_compat.py:53: UserWarning: The installed version of PyGEOS is too old (0.5 installed, 0.8 required), and thus GeoPandas will not use PyGEOS.\n",
      "  UserWarning,\n"
     ]
    }
   ],
   "source": [
    "from tqdm import tqdm\n",
    "import geopandas as gpd\n",
    "import json\n",
    "import matplotlib\n",
    "import matplotlib.pyplot as plt\n",
    "import pandas as pd\n",
    "import sys\n",
    "\n",
    "import warnings\n",
    "warnings.filterwarnings('ignore')\n",
    "%matplotlib inline"
   ]
  },
  {
   "cell_type": "code",
   "execution_count": 2,
   "id": "magnetic-keyboard",
   "metadata": {},
   "outputs": [],
   "source": [
    "CRS_LATLON = 'EPSG:4326'\n",
    "DATA_DIR = '../../../data'\n",
    "EXPORTS_DIR = f'{DATA_DIR}/exports'\n",
    "LIB_DIR = '../../lib'"
   ]
  },
  {
   "cell_type": "code",
   "execution_count": 3,
   "id": "reasonable-permission",
   "metadata": {},
   "outputs": [],
   "source": [
    "# Custom imports\n",
    "sys.path.append(LIB_DIR)\n",
    "from gtfs_sequence import Sequence"
   ]
  },
  {
   "cell_type": "code",
   "execution_count": 4,
   "id": "spectacular-parallel",
   "metadata": {},
   "outputs": [],
   "source": [
    "def peek(df):\n",
    "    print(len(df))\n",
    "    display(df.iloc[:3])"
   ]
  },
  {
   "cell_type": "markdown",
   "id": "serial-boxing",
   "metadata": {},
   "source": [
    "# 1. Collect Stop Sequences\n",
    "\n",
    "Stop sequences are collected by:\n",
    "<ol>\n",
    "  <li>Collecting unique stop sequences from <code>stop_times.txt</code>\n",
    "  <li>Collecting all trip IDs matching a sequence, for each sequence\n",
    "  <li>Assigning attributes (e.g. route ID) to each stop sequence based on the commonly observed attribute value within each sequence's matching trips\n",
    "</ol>\n",
    "\n",
    "This approach is necessary due to mislabelled data. Rather than rely on potentially mislabelled trips, this approach groups trips based on their published stop times and locations, and then labels their routes based on majority of matched labels. This approach corrects for trips following a route, but mislabelled as a different route. Correctly determining the route to which a trip belongs enables matching the stop sequence of the trip to a predefined route geometry."
   ]
  },
  {
   "cell_type": "code",
   "execution_count": 5,
   "id": "civilian-decline",
   "metadata": {},
   "outputs": [
    {
     "name": "stdout",
     "output_type": "stream",
     "text": [
      "934109\n"
     ]
    },
    {
     "data": {
      "text/html": [
       "<div>\n",
       "<style scoped>\n",
       "    .dataframe tbody tr th:only-of-type {\n",
       "        vertical-align: middle;\n",
       "    }\n",
       "\n",
       "    .dataframe tbody tr th {\n",
       "        vertical-align: top;\n",
       "    }\n",
       "\n",
       "    .dataframe thead th {\n",
       "        text-align: right;\n",
       "    }\n",
       "</style>\n",
       "<table border=\"1\" class=\"dataframe\">\n",
       "  <thead>\n",
       "    <tr style=\"text-align: right;\">\n",
       "      <th></th>\n",
       "      <th>trip_id</th>\n",
       "      <th>stop_id</th>\n",
       "    </tr>\n",
       "  </thead>\n",
       "  <tbody>\n",
       "    <tr>\n",
       "      <th>0</th>\n",
       "      <td>MQ_C1-Weekday-032400_M57_451</td>\n",
       "      <td>400745</td>\n",
       "    </tr>\n",
       "    <tr>\n",
       "      <th>1</th>\n",
       "      <td>MQ_C1-Weekday-032400_M57_451</td>\n",
       "      <td>402233</td>\n",
       "    </tr>\n",
       "    <tr>\n",
       "      <th>2</th>\n",
       "      <td>MQ_C1-Weekday-032400_M57_451</td>\n",
       "      <td>403986</td>\n",
       "    </tr>\n",
       "  </tbody>\n",
       "</table>\n",
       "</div>"
      ],
      "text/plain": [
       "                        trip_id  stop_id\n",
       "0  MQ_C1-Weekday-032400_M57_451   400745\n",
       "1  MQ_C1-Weekday-032400_M57_451   402233\n",
       "2  MQ_C1-Weekday-032400_M57_451   403986"
      ]
     },
     "metadata": {},
     "output_type": "display_data"
    }
   ],
   "source": [
    "# Extract stops used for each trip.\n",
    "stop_times_df = pd.read_csv(f'{DATA_DIR}/gtfs/manhattan/stop_times.txt')\n",
    "stop_times_df = stop_times_df[['trip_id', 'stop_id']]\n",
    "peek(stop_times_df)"
   ]
  },
  {
   "cell_type": "code",
   "execution_count": 6,
   "id": "simplified-identifier",
   "metadata": {},
   "outputs": [],
   "source": [
    "# Convert to/from a stop sequence.\n",
    "def serialize_stop_ids(stop_ids):\n",
    "    return ','.join([str(s) for s in stop_ids])\n",
    "def deserialize_stops_key(stops_key):\n",
    "    return [int(s) for s in stops_key.split(',')]"
   ]
  },
  {
   "cell_type": "code",
   "execution_count": 7,
   "id": "forward-tradition",
   "metadata": {},
   "outputs": [],
   "source": [
    "# Create dictionary of trip ID to stop sequence.\n",
    "trip_id_stop_ids_dict = stop_times_df.groupby('trip_id').apply(\n",
    "    lambda x: list(x['stop_id'])).to_dict()\n",
    "\n",
    "# Serialize stop sequences.\n",
    "trip_id_stops_key_dict = {\n",
    "    trip_id: serialize_stop_ids(stop_ids)\n",
    "    for trip_id, stop_ids in trip_id_stop_ids_dict.items()\n",
    "}\n",
    "\n",
    "# Map stop sequences to list of matching trips.\n",
    "stops_key_trip_ids_dict = {}\n",
    "for trip_id, stops_key in trip_id_stops_key_dict.items():\n",
    "    if stops_key not in stops_key_trip_ids_dict:\n",
    "        stops_key_trip_ids_dict[stops_key] = []\n",
    "    stops_key_trip_ids_dict[stops_key].append(trip_id)"
   ]
  },
  {
   "cell_type": "code",
   "execution_count": 8,
   "id": "leading-biography",
   "metadata": {},
   "outputs": [
    {
     "name": "stdout",
     "output_type": "stream",
     "text": [
      "29055\n"
     ]
    },
    {
     "data": {
      "text/html": [
       "<div>\n",
       "<style scoped>\n",
       "    .dataframe tbody tr th:only-of-type {\n",
       "        vertical-align: middle;\n",
       "    }\n",
       "\n",
       "    .dataframe tbody tr th {\n",
       "        vertical-align: top;\n",
       "    }\n",
       "\n",
       "    .dataframe thead th {\n",
       "        text-align: right;\n",
       "    }\n",
       "</style>\n",
       "<table border=\"1\" class=\"dataframe\">\n",
       "  <thead>\n",
       "    <tr style=\"text-align: right;\">\n",
       "      <th></th>\n",
       "      <th>route_id</th>\n",
       "      <th>service_id</th>\n",
       "      <th>trip_headsign</th>\n",
       "      <th>direction_id</th>\n",
       "      <th>shape_id</th>\n",
       "    </tr>\n",
       "    <tr>\n",
       "      <th>trip_id</th>\n",
       "      <th></th>\n",
       "      <th></th>\n",
       "      <th></th>\n",
       "      <th></th>\n",
       "      <th></th>\n",
       "    </tr>\n",
       "  </thead>\n",
       "  <tbody>\n",
       "    <tr>\n",
       "      <th>MQ_C1-Weekday-032400_M57_451</th>\n",
       "      <td>M57</td>\n",
       "      <td>MQ_C1-Weekday</td>\n",
       "      <td>WEST SIDE BROADWAY-72 ST CROSSTOWN</td>\n",
       "      <td>1</td>\n",
       "      <td>M570110</td>\n",
       "    </tr>\n",
       "    <tr>\n",
       "      <th>MQ_C1-Weekday-034000_M57_451</th>\n",
       "      <td>M57</td>\n",
       "      <td>MQ_C1-Weekday</td>\n",
       "      <td>EAST SIDE YORK-60 ST CROSSTOWN</td>\n",
       "      <td>0</td>\n",
       "      <td>M570111</td>\n",
       "    </tr>\n",
       "    <tr>\n",
       "      <th>MQ_C1-Weekday-037300_M57_451</th>\n",
       "      <td>M57</td>\n",
       "      <td>MQ_C1-Weekday</td>\n",
       "      <td>WEST SIDE BROADWAY-72 ST CROSSTOWN</td>\n",
       "      <td>1</td>\n",
       "      <td>M570109</td>\n",
       "    </tr>\n",
       "  </tbody>\n",
       "</table>\n",
       "</div>"
      ],
      "text/plain": [
       "                             route_id     service_id  \\\n",
       "trip_id                                                \n",
       "MQ_C1-Weekday-032400_M57_451      M57  MQ_C1-Weekday   \n",
       "MQ_C1-Weekday-034000_M57_451      M57  MQ_C1-Weekday   \n",
       "MQ_C1-Weekday-037300_M57_451      M57  MQ_C1-Weekday   \n",
       "\n",
       "                                                   trip_headsign  \\\n",
       "trip_id                                                            \n",
       "MQ_C1-Weekday-032400_M57_451  WEST SIDE BROADWAY-72 ST CROSSTOWN   \n",
       "MQ_C1-Weekday-034000_M57_451      EAST SIDE YORK-60 ST CROSSTOWN   \n",
       "MQ_C1-Weekday-037300_M57_451  WEST SIDE BROADWAY-72 ST CROSSTOWN   \n",
       "\n",
       "                              direction_id shape_id  \n",
       "trip_id                                              \n",
       "MQ_C1-Weekday-032400_M57_451             1  M570110  \n",
       "MQ_C1-Weekday-034000_M57_451             0  M570111  \n",
       "MQ_C1-Weekday-037300_M57_451             1  M570109  "
      ]
     },
     "metadata": {},
     "output_type": "display_data"
    }
   ],
   "source": [
    "# Extract information for each trip.\n",
    "trips_df = pd.read_csv(f'{DATA_DIR}/gtfs/manhattan/trips.txt')\n",
    "trips_df = trips_df.set_index('trip_id')\n",
    "trip_id_route_id_dict = trips_df['route_id'].to_dict()\n",
    "peek(trips_df)"
   ]
  },
  {
   "cell_type": "code",
   "execution_count": 9,
   "id": "subsequent-xerox",
   "metadata": {},
   "outputs": [
    {
     "name": "stderr",
     "output_type": "stream",
     "text": [
      "100%|██████████| 146/146 [00:13<00:00, 10.95it/s]\n"
     ]
    }
   ],
   "source": [
    "# Create sequences from map of stops and matching trips.\n",
    "sequences = [\n",
    "    Sequence(deserialize_stops_key(stops_key), trip_ids, trips_df)\n",
    "    for stops_key, trip_ids in tqdm(stops_key_trip_ids_dict.items())\n",
    "]"
   ]
  },
  {
   "cell_type": "code",
   "execution_count": 10,
   "id": "minimal-infection",
   "metadata": {},
   "outputs": [],
   "source": [
    "# Export sequences to JSON.\n",
    "with open(f'{EXPORTS_DIR}/json/manhattan/sequences.json', 'w') as fp:\n",
    "    sequence_dicts = [s.to_dict() for s in sequences]\n",
    "    json.dump(sequence_dicts, fp)"
   ]
  },
  {
   "cell_type": "markdown",
   "id": "statewide-scout",
   "metadata": {},
   "source": [
    "## 2. Assign Stop Locations Along Route Geometry\n",
    "\n",
    "The locations of stops are provided in `stops.txt`, but must be \"snapped\" to the closest point along a route geometry for linear referencing and time interpolation. Because stops may be shared by multiple routes, \"snapped\" stop locations may be different for each route. Therefore, a manifest of stop locations per route is calculated. If the distance between a provided stop location and its route-snapped location exceeds a distance threshold, an error is thrown to flag it as potentially inaccurate."
   ]
  },
  {
   "cell_type": "code",
   "execution_count": 1,
   "id": "interracial-adams",
   "metadata": {},
   "outputs": [
    {
     "name": "stderr",
     "output_type": "stream",
     "text": [
      "/home/chriscarey/miniconda3/envs/mlc/lib/python3.7/site-packages/geopandas/_compat.py:53: UserWarning: The installed version of PyGEOS is too old (0.5 installed, 0.8 required), and thus GeoPandas will not use PyGEOS.\n",
      "  UserWarning,\n"
     ]
    }
   ],
   "source": [
    "# Custom imports reloaded to enable re-running changes from this point.\n",
    "import geopandas as gpd\n",
    "import json\n",
    "import matplotlib\n",
    "import matplotlib.pyplot as plt\n",
    "import pandas as pd\n",
    "import sys\n",
    "\n",
    "import warnings\n",
    "warnings.filterwarnings('ignore')\n",
    "%matplotlib inline\n",
    "\n",
    "CRS_LATLON = 'EPSG:4326'\n",
    "DATA_DIR = '../../../data'\n",
    "EXPORTS_DIR = f'{DATA_DIR}/exports'\n",
    "LIB_DIR = '../../lib'\n",
    "\n",
    "sys.path.append(LIB_DIR)\n",
    "from gtfs_sequence import Sequence\n",
    "\n",
    "# Load exported sequences (to enable re-running without re-calculation).\n",
    "sequences = []\n",
    "with open(f'{EXPORTS_DIR}/json/manhattan/sequences.json', 'r') as fp:\n",
    "    sequence_dicts = json.load(fp)\n",
    "sequences = [Sequence(load_dict=d) for d in sequence_dicts]\n",
    "\n",
    "def peek(df):\n",
    "    print(len(df))\n",
    "    display(df.iloc[:3])"
   ]
  },
  {
   "cell_type": "code",
   "execution_count": 2,
   "id": "junior-nomination",
   "metadata": {},
   "outputs": [
    {
     "name": "stdout",
     "output_type": "stream",
     "text": [
      "1808\n"
     ]
    },
    {
     "data": {
      "text/html": [
       "<div>\n",
       "<style scoped>\n",
       "    .dataframe tbody tr th:only-of-type {\n",
       "        vertical-align: middle;\n",
       "    }\n",
       "\n",
       "    .dataframe tbody tr th {\n",
       "        vertical-align: top;\n",
       "    }\n",
       "\n",
       "    .dataframe thead th {\n",
       "        text-align: right;\n",
       "    }\n",
       "</style>\n",
       "<table border=\"1\" class=\"dataframe\">\n",
       "  <thead>\n",
       "    <tr style=\"text-align: right;\">\n",
       "      <th></th>\n",
       "      <th>stop_lat</th>\n",
       "      <th>stop_lon</th>\n",
       "    </tr>\n",
       "    <tr>\n",
       "      <th>stop_id</th>\n",
       "      <th></th>\n",
       "      <th></th>\n",
       "    </tr>\n",
       "  </thead>\n",
       "  <tbody>\n",
       "    <tr>\n",
       "      <th>400001</th>\n",
       "      <td>40.731342</td>\n",
       "      <td>-73.990292</td>\n",
       "    </tr>\n",
       "    <tr>\n",
       "      <th>400002</th>\n",
       "      <td>40.732608</td>\n",
       "      <td>-73.989958</td>\n",
       "    </tr>\n",
       "    <tr>\n",
       "      <th>400003</th>\n",
       "      <td>40.733936</td>\n",
       "      <td>-73.989720</td>\n",
       "    </tr>\n",
       "  </tbody>\n",
       "</table>\n",
       "</div>"
      ],
      "text/plain": [
       "          stop_lat   stop_lon\n",
       "stop_id                      \n",
       "400001   40.731342 -73.990292\n",
       "400002   40.732608 -73.989958\n",
       "400003   40.733936 -73.989720"
      ]
     },
     "metadata": {},
     "output_type": "display_data"
    }
   ],
   "source": [
    "# Load stop locations into DataFrame.\n",
    "stops_df = pd.read_csv(f'{DATA_DIR}/gtfs/manhattan/stops.txt')\n",
    "stops_df = stops_df.set_index('stop_id')\n",
    "stops_df = stops_df[['stop_lat', 'stop_lon']]\n",
    "peek(stops_df)"
   ]
  },
  {
   "cell_type": "code",
   "execution_count": 3,
   "id": "polyphonic-plumbing",
   "metadata": {},
   "outputs": [
    {
     "data": {
      "image/png": "[encoded data removed]",
      "text/plain": [
       "<Figure size 432x288 with 1 Axes>"
      ]
     },
     "metadata": {
      "needs_background": "light"
     },
     "output_type": "display_data"
    }
   ],
   "source": [
    "# Load bus route geometries into DataFrame.\n",
    "routes_gdf = gpd.read_file(f'{DATA_DIR}/shp/bus_routes_nyc_may2020.shp')\n",
    "routes_gdf = routes_gdf.to_crs(CRS_LATLON)\n",
    "routes_gdf.plot()\n",
    "plt.show()"
   ]
  },
  {
   "cell_type": "code",
   "execution_count": 4,
   "id": "noble-cologne",
   "metadata": {},
   "outputs": [
    {
     "name": "stdout",
     "output_type": "stream",
     "text": [
      "# of sequences before route geometry assignement: 146\n",
      "# of sequences after route geometry assignement: 144\n"
     ]
    }
   ],
   "source": [
    "# Assign route geometries and only keep sequences with matching geometries.\n",
    "print(f'# of sequences before route geometry assignement: {len(sequences)}')\n",
    "sequences = [s for s in sequences if s.assign_route_geometry(routes_gdf)]\n",
    "print(f'# of sequences after route geometry assignement: {len(sequences)}')"
   ]
  },
  {
   "cell_type": "code",
   "execution_count": 5,
   "id": "attended-powell",
   "metadata": {},
   "outputs": [],
   "source": [
    "for sequence in sequences:\n",
    "    sequence.assign_stop_coords(stops_df)"
   ]
  },
  {
   "cell_type": "code",
   "execution_count": 6,
   "id": "binding-melissa",
   "metadata": {},
   "outputs": [],
   "source": [
    "# Export sequences to JSON.\n",
    "with open(f'{EXPORTS_DIR}/json/manhattan/sequences.json', 'w') as fp:\n",
    "    sequence_dicts = [s.to_dict() for s in sequences]\n",
    "    json.dump(sequence_dicts, fp)"
   ]
  },
  {
   "cell_type": "code",
   "execution_count": null,
   "id": "grave-custody",
   "metadata": {},
   "outputs": [],
   "source": []
  }
 ],
 "metadata": {
  "kernelspec": {
   "display_name": "Python 3",
   "language": "python",
   "name": "python3"
  },
  "language_info": {
   "codemirror_mode": {
    "name": "ipython",
    "version": 3
   },
   "file_extension": ".py",
   "mimetype": "text/x-python",
   "name": "python",
   "nbconvert_exporter": "python",
   "pygments_lexer": "ipython3",
   "version": "3.7.6"
  }
 },
 "nbformat": 4,
 "nbformat_minor": 5
}
