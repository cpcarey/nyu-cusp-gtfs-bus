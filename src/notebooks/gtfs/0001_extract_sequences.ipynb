{
 "cells": [
  {
   "cell_type": "code",
   "execution_count": 16,
   "id": "intermediate-earth",
   "metadata": {},
   "outputs": [],
   "source": [
    "from tqdm import tqdm\n",
    "import json\n",
    "import pandas as pd\n",
    "import sys\n",
    "\n",
    "import warnings\n",
    "warnings.filterwarnings('ignore')\n",
    "%matplotlib inline"
   ]
  },
  {
   "cell_type": "code",
   "execution_count": 2,
   "id": "interested-controversy",
   "metadata": {},
   "outputs": [],
   "source": [
    "CRS_LATLON = 'EPSG:4326'\n",
    "DATA_DIR = '../../../data'\n",
    "EXPORTS_DIR = f'{DATA_DIR}/exports'\n",
    "LIB_DIR = '../../lib'"
   ]
  },
  {
   "cell_type": "code",
   "execution_count": 3,
   "id": "armed-communication",
   "metadata": {},
   "outputs": [],
   "source": [
    "# Custom imports\n",
    "sys.path.append(LIB_DIR)\n",
    "from gtfs_sequence import Sequence"
   ]
  },
  {
   "cell_type": "code",
   "execution_count": 3,
   "id": "organizational-hardwood",
   "metadata": {},
   "outputs": [],
   "source": [
    "def peek(df):\n",
    "    print(len(df))\n",
    "    display(df.iloc[:3])"
   ]
  },
  {
   "cell_type": "code",
   "execution_count": 4,
   "id": "naked-windows",
   "metadata": {},
   "outputs": [
    {
     "name": "stdout",
     "output_type": "stream",
     "text": [
      "934109\n"
     ]
    },
    {
     "data": {
      "text/html": [
       "<div>\n",
       "<style scoped>\n",
       "    .dataframe tbody tr th:only-of-type {\n",
       "        vertical-align: middle;\n",
       "    }\n",
       "\n",
       "    .dataframe tbody tr th {\n",
       "        vertical-align: top;\n",
       "    }\n",
       "\n",
       "    .dataframe thead th {\n",
       "        text-align: right;\n",
       "    }\n",
       "</style>\n",
       "<table border=\"1\" class=\"dataframe\">\n",
       "  <thead>\n",
       "    <tr style=\"text-align: right;\">\n",
       "      <th></th>\n",
       "      <th>trip_id</th>\n",
       "      <th>stop_id</th>\n",
       "    </tr>\n",
       "  </thead>\n",
       "  <tbody>\n",
       "    <tr>\n",
       "      <th>0</th>\n",
       "      <td>MQ_C1-Weekday-032400_M57_451</td>\n",
       "      <td>400745</td>\n",
       "    </tr>\n",
       "    <tr>\n",
       "      <th>1</th>\n",
       "      <td>MQ_C1-Weekday-032400_M57_451</td>\n",
       "      <td>402233</td>\n",
       "    </tr>\n",
       "    <tr>\n",
       "      <th>2</th>\n",
       "      <td>MQ_C1-Weekday-032400_M57_451</td>\n",
       "      <td>403986</td>\n",
       "    </tr>\n",
       "  </tbody>\n",
       "</table>\n",
       "</div>"
      ],
      "text/plain": [
       "                        trip_id  stop_id\n",
       "0  MQ_C1-Weekday-032400_M57_451   400745\n",
       "1  MQ_C1-Weekday-032400_M57_451   402233\n",
       "2  MQ_C1-Weekday-032400_M57_451   403986"
      ]
     },
     "metadata": {},
     "output_type": "display_data"
    }
   ],
   "source": [
    "# Extract stops used for each trip.\n",
    "stop_times_df = pd.read_csv(f'{DATA_DIR}/gtfs/manhattan/stop_times.txt')\n",
    "stop_times_df = stop_times_df[['trip_id', 'stop_id']]\n",
    "peek(stop_times_df)"
   ]
  },
  {
   "cell_type": "code",
   "execution_count": 5,
   "id": "alternate-special",
   "metadata": {},
   "outputs": [],
   "source": [
    "# Convert to/from a stop sequence.\n",
    "def serialize_stop_ids(stop_ids):\n",
    "    return ','.join([str(s) for s in stop_ids])\n",
    "def deserialize_stops_key(stops_key):\n",
    "    return [int(s) for s in stops_key.split(',')]"
   ]
  },
  {
   "cell_type": "code",
   "execution_count": 6,
   "id": "mature-laptop",
   "metadata": {},
   "outputs": [],
   "source": [
    "# Create dictionary of trip ID to stop sequence.\n",
    "trip_id_stop_ids_dict = stop_times_df.groupby('trip_id').apply(\n",
    "    lambda x: list(x['stop_id'])).to_dict()\n",
    "\n",
    "# Serialize stop sequences.\n",
    "trip_id_stops_key_dict = {\n",
    "    trip_id: serialize_stop_ids(stop_ids)\n",
    "    for trip_id, stop_ids in trip_id_stop_ids_dict.items()\n",
    "}\n",
    "\n",
    "# Map stop sequences to list of matching trips.\n",
    "stops_key_trip_ids_dict = {}\n",
    "for trip_id, stops_key in trip_id_stops_key_dict.items():\n",
    "    if stops_key not in stops_key_trip_ids_dict:\n",
    "        stops_key_trip_ids_dict[stops_key] = []\n",
    "    stops_key_trip_ids_dict[stops_key].append(trip_id)"
   ]
  },
  {
   "cell_type": "code",
   "execution_count": 7,
   "id": "opposite-input",
   "metadata": {},
   "outputs": [
    {
     "name": "stdout",
     "output_type": "stream",
     "text": [
      "29055\n"
     ]
    },
    {
     "data": {
      "text/html": [
       "<div>\n",
       "<style scoped>\n",
       "    .dataframe tbody tr th:only-of-type {\n",
       "        vertical-align: middle;\n",
       "    }\n",
       "\n",
       "    .dataframe tbody tr th {\n",
       "        vertical-align: top;\n",
       "    }\n",
       "\n",
       "    .dataframe thead th {\n",
       "        text-align: right;\n",
       "    }\n",
       "</style>\n",
       "<table border=\"1\" class=\"dataframe\">\n",
       "  <thead>\n",
       "    <tr style=\"text-align: right;\">\n",
       "      <th></th>\n",
       "      <th>route_id</th>\n",
       "      <th>service_id</th>\n",
       "      <th>trip_headsign</th>\n",
       "      <th>direction_id</th>\n",
       "      <th>shape_id</th>\n",
       "    </tr>\n",
       "    <tr>\n",
       "      <th>trip_id</th>\n",
       "      <th></th>\n",
       "      <th></th>\n",
       "      <th></th>\n",
       "      <th></th>\n",
       "      <th></th>\n",
       "    </tr>\n",
       "  </thead>\n",
       "  <tbody>\n",
       "    <tr>\n",
       "      <th>MQ_C1-Weekday-032400_M57_451</th>\n",
       "      <td>M57</td>\n",
       "      <td>MQ_C1-Weekday</td>\n",
       "      <td>WEST SIDE BROADWAY-72 ST CROSSTOWN</td>\n",
       "      <td>1</td>\n",
       "      <td>M570110</td>\n",
       "    </tr>\n",
       "    <tr>\n",
       "      <th>MQ_C1-Weekday-034000_M57_451</th>\n",
       "      <td>M57</td>\n",
       "      <td>MQ_C1-Weekday</td>\n",
       "      <td>EAST SIDE YORK-60 ST CROSSTOWN</td>\n",
       "      <td>0</td>\n",
       "      <td>M570111</td>\n",
       "    </tr>\n",
       "    <tr>\n",
       "      <th>MQ_C1-Weekday-037300_M57_451</th>\n",
       "      <td>M57</td>\n",
       "      <td>MQ_C1-Weekday</td>\n",
       "      <td>WEST SIDE BROADWAY-72 ST CROSSTOWN</td>\n",
       "      <td>1</td>\n",
       "      <td>M570109</td>\n",
       "    </tr>\n",
       "  </tbody>\n",
       "</table>\n",
       "</div>"
      ],
      "text/plain": [
       "                             route_id     service_id  \\\n",
       "trip_id                                                \n",
       "MQ_C1-Weekday-032400_M57_451      M57  MQ_C1-Weekday   \n",
       "MQ_C1-Weekday-034000_M57_451      M57  MQ_C1-Weekday   \n",
       "MQ_C1-Weekday-037300_M57_451      M57  MQ_C1-Weekday   \n",
       "\n",
       "                                                   trip_headsign  \\\n",
       "trip_id                                                            \n",
       "MQ_C1-Weekday-032400_M57_451  WEST SIDE BROADWAY-72 ST CROSSTOWN   \n",
       "MQ_C1-Weekday-034000_M57_451      EAST SIDE YORK-60 ST CROSSTOWN   \n",
       "MQ_C1-Weekday-037300_M57_451  WEST SIDE BROADWAY-72 ST CROSSTOWN   \n",
       "\n",
       "                              direction_id shape_id  \n",
       "trip_id                                              \n",
       "MQ_C1-Weekday-032400_M57_451             1  M570110  \n",
       "MQ_C1-Weekday-034000_M57_451             0  M570111  \n",
       "MQ_C1-Weekday-037300_M57_451             1  M570109  "
      ]
     },
     "metadata": {},
     "output_type": "display_data"
    }
   ],
   "source": [
    "# Extract information for each trip.\n",
    "trips_df = pd.read_csv(f'{DATA_DIR}/gtfs/manhattan/trips.txt')\n",
    "trips_df = trips_df.set_index('trip_id')\n",
    "trip_id_route_id_dict = trips_df['route_id'].to_dict()\n",
    "peek(trips_df)"
   ]
  },
  {
   "cell_type": "code",
   "execution_count": 8,
   "id": "complimentary-continuity",
   "metadata": {},
   "outputs": [
    {
     "name": "stderr",
     "output_type": "stream",
     "text": [
      "  0%|          | 0/146 [00:00<?, ?it/s]"
     ]
    },
    {
     "ename": "NameError",
     "evalue": "name 'Sequence' is not defined",
     "output_type": "error",
     "traceback": [
      "\u001b[0;31m---------------------------------------------------------------------------\u001b[0m",
      "\u001b[0;31mNameError\u001b[0m                                 Traceback (most recent call last)",
      "\u001b[0;32m<ipython-input-8-c56d5e49fb79>\u001b[0m in \u001b[0;36m<module>\u001b[0;34m\u001b[0m\n\u001b[1;32m      2\u001b[0m sequences = [\n\u001b[1;32m      3\u001b[0m     \u001b[0mSequence\u001b[0m\u001b[0;34m(\u001b[0m\u001b[0mdeserialize_stops_key\u001b[0m\u001b[0;34m(\u001b[0m\u001b[0mstops_key\u001b[0m\u001b[0;34m)\u001b[0m\u001b[0;34m,\u001b[0m \u001b[0mtrip_ids\u001b[0m\u001b[0;34m,\u001b[0m \u001b[0mtrips_df\u001b[0m\u001b[0;34m)\u001b[0m\u001b[0;34m\u001b[0m\u001b[0;34m\u001b[0m\u001b[0m\n\u001b[0;32m----> 4\u001b[0;31m     \u001b[0;32mfor\u001b[0m \u001b[0mstops_key\u001b[0m\u001b[0;34m,\u001b[0m \u001b[0mtrip_ids\u001b[0m \u001b[0;32min\u001b[0m \u001b[0mtqdm\u001b[0m\u001b[0;34m(\u001b[0m\u001b[0mstops_key_trip_ids_dict\u001b[0m\u001b[0;34m.\u001b[0m\u001b[0mitems\u001b[0m\u001b[0;34m(\u001b[0m\u001b[0;34m)\u001b[0m\u001b[0;34m)\u001b[0m\u001b[0;34m\u001b[0m\u001b[0;34m\u001b[0m\u001b[0m\n\u001b[0m\u001b[1;32m      5\u001b[0m ]\n",
      "\u001b[0;32m<ipython-input-8-c56d5e49fb79>\u001b[0m in \u001b[0;36m<listcomp>\u001b[0;34m(.0)\u001b[0m\n\u001b[1;32m      2\u001b[0m sequences = [\n\u001b[1;32m      3\u001b[0m     \u001b[0mSequence\u001b[0m\u001b[0;34m(\u001b[0m\u001b[0mdeserialize_stops_key\u001b[0m\u001b[0;34m(\u001b[0m\u001b[0mstops_key\u001b[0m\u001b[0;34m)\u001b[0m\u001b[0;34m,\u001b[0m \u001b[0mtrip_ids\u001b[0m\u001b[0;34m,\u001b[0m \u001b[0mtrips_df\u001b[0m\u001b[0;34m)\u001b[0m\u001b[0;34m\u001b[0m\u001b[0;34m\u001b[0m\u001b[0m\n\u001b[0;32m----> 4\u001b[0;31m     \u001b[0;32mfor\u001b[0m \u001b[0mstops_key\u001b[0m\u001b[0;34m,\u001b[0m \u001b[0mtrip_ids\u001b[0m \u001b[0;32min\u001b[0m \u001b[0mtqdm\u001b[0m\u001b[0;34m(\u001b[0m\u001b[0mstops_key_trip_ids_dict\u001b[0m\u001b[0;34m.\u001b[0m\u001b[0mitems\u001b[0m\u001b[0;34m(\u001b[0m\u001b[0;34m)\u001b[0m\u001b[0;34m)\u001b[0m\u001b[0;34m\u001b[0m\u001b[0;34m\u001b[0m\u001b[0m\n\u001b[0m\u001b[1;32m      5\u001b[0m ]\n",
      "\u001b[0;31mNameError\u001b[0m: name 'Sequence' is not defined"
     ]
    }
   ],
   "source": [
    "# Create sequences from map of stops and matching trips.\n",
    "sequences = [\n",
    "    Sequence(deserialize_stops_key(stops_key), trip_ids, trips_df)\n",
    "    for stops_key, trip_ids in tqdm(stops_key_trip_ids_dict.items())\n",
    "]"
   ]
  },
  {
   "cell_type": "code",
   "execution_count": null,
   "id": "rotary-owner",
   "metadata": {},
   "outputs": [],
   "source": [
    "# Export sequences to JSON.\n",
    "with open(f'{EXPORTS_DIR}/json/manhattan/sequences.json', 'w') as fp:\n",
    "    sequence_dicts = [s.to_dict() for s in sequences]\n",
    "    json.dump(sequence_dicts, fp)"
   ]
  }
 ],
 "metadata": {
  "kernelspec": {
   "display_name": "Python 3",
   "language": "python",
   "name": "python3"
  },
  "language_info": {
   "codemirror_mode": {
    "name": "ipython",
    "version": 3
   },
   "file_extension": ".py",
   "mimetype": "text/x-python",
   "name": "python",
   "nbconvert_exporter": "python",
   "pygments_lexer": "ipython3",
   "version": "3.7.6"
  }
 },
 "nbformat": 4,
 "nbformat_minor": 5
}
