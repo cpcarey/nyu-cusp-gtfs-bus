{
 "cells": [
  {
   "cell_type": "code",
   "execution_count": 1,
   "id": "amber-walter",
   "metadata": {},
   "outputs": [
    {
     "name": "stderr",
     "output_type": "stream",
     "text": [
      "/home/chriscarey/miniconda3/envs/mlc/lib/python3.7/site-packages/geopandas/_compat.py:53: UserWarning: The installed version of PyGEOS is too old (0.5 installed, 0.8 required), and thus GeoPandas will not use PyGEOS.\n",
      "  UserWarning,\n"
     ]
    }
   ],
   "source": [
    "import datetime\n",
    "import geopandas as gpd\n",
    "import itertools\n",
    "import json\n",
    "import matplotlib\n",
    "import matplotlib.pyplot as plt\n",
    "import pandas as pd\n",
    "import sys\n",
    "from tqdm import tqdm\n",
    "\n",
    "import warnings\n",
    "warnings.filterwarnings('ignore')\n",
    "%matplotlib inline\n",
    "\n",
    "%load_ext autoreload\n",
    "%autoreload 2"
   ]
  },
  {
   "cell_type": "code",
   "execution_count": 2,
   "id": "aware-helen",
   "metadata": {},
   "outputs": [],
   "source": [
    "CRS_LATLON = 'EPSG:4326'\n",
    "DATA_DIR = '../../../data'\n",
    "EXPORTS_DIR = f'{DATA_DIR}/exports'\n",
    "LIB_DIR = '../../lib'\n",
    "LOG_DIR = '../../../log'"
   ]
  },
  {
   "cell_type": "code",
   "execution_count": 3,
   "id": "romance-reggae",
   "metadata": {},
   "outputs": [],
   "source": [
    "# Custom imports\n",
    "sys.path.append(LIB_DIR)\n",
    "from gtfs_sequence import Sequence"
   ]
  },
  {
   "cell_type": "code",
   "execution_count": 4,
   "id": "auburn-conditioning",
   "metadata": {},
   "outputs": [],
   "source": [
    "def peek(df):\n",
    "    print(len(df))\n",
    "    display(df.iloc[:3])"
   ]
  },
  {
   "cell_type": "markdown",
   "id": "contained-child",
   "metadata": {},
   "source": [
    "# 1. Collect Stop Sequences\n",
    "\n",
    "Stop sequences are collected by:\n",
    "<ol>\n",
    "  <li>Collecting unique stop sequences from <code>stop_times.txt</code>\n",
    "  <li>Collecting all trip IDs matching a sequence, for each sequence\n",
    "  <li>Assigning attributes (e.g. route ID) to each stop sequence based on the commonly observed attribute value within each sequence's matching trips\n",
    "</ol>\n",
    "\n",
    "This approach is necessary due to mislabelled data. Rather than rely on potentially mislabelled trips, this approach groups trips based on their published stop times and locations, and then labels their routes based on majority of matched labels. This approach corrects for trips following a route, but mislabelled as a different route. Correctly determining the route to which a trip belongs enables matching the stop sequence of the trip to a predefined route geometry."
   ]
  },
  {
   "cell_type": "code",
   "execution_count": 5,
   "id": "about-provincial",
   "metadata": {},
   "outputs": [
    {
     "name": "stdout",
     "output_type": "stream",
     "text": [
      "934109\n"
     ]
    },
    {
     "data": {
      "text/html": [
       "<div>\n",
       "<style scoped>\n",
       "    .dataframe tbody tr th:only-of-type {\n",
       "        vertical-align: middle;\n",
       "    }\n",
       "\n",
       "    .dataframe tbody tr th {\n",
       "        vertical-align: top;\n",
       "    }\n",
       "\n",
       "    .dataframe thead th {\n",
       "        text-align: right;\n",
       "    }\n",
       "</style>\n",
       "<table border=\"1\" class=\"dataframe\">\n",
       "  <thead>\n",
       "    <tr style=\"text-align: right;\">\n",
       "      <th></th>\n",
       "      <th>trip_id</th>\n",
       "      <th>stop_id</th>\n",
       "      <th>arrival_time</th>\n",
       "    </tr>\n",
       "  </thead>\n",
       "  <tbody>\n",
       "    <tr>\n",
       "      <th>0</th>\n",
       "      <td>MQ_C1-Weekday-032400_M57_451</td>\n",
       "      <td>400745</td>\n",
       "      <td>05:24:00</td>\n",
       "    </tr>\n",
       "    <tr>\n",
       "      <th>1</th>\n",
       "      <td>MQ_C1-Weekday-032400_M57_451</td>\n",
       "      <td>402233</td>\n",
       "      <td>05:25:30</td>\n",
       "    </tr>\n",
       "    <tr>\n",
       "      <th>2</th>\n",
       "      <td>MQ_C1-Weekday-032400_M57_451</td>\n",
       "      <td>403986</td>\n",
       "      <td>05:26:44</td>\n",
       "    </tr>\n",
       "  </tbody>\n",
       "</table>\n",
       "</div>"
      ],
      "text/plain": [
       "                        trip_id  stop_id arrival_time\n",
       "0  MQ_C1-Weekday-032400_M57_451   400745     05:24:00\n",
       "1  MQ_C1-Weekday-032400_M57_451   402233     05:25:30\n",
       "2  MQ_C1-Weekday-032400_M57_451   403986     05:26:44"
      ]
     },
     "metadata": {},
     "output_type": "display_data"
    }
   ],
   "source": [
    "# Extract stops used for each trip.\n",
    "stop_times_df = pd.read_csv(f'{DATA_DIR}/gtfs/manhattan/stop_times.txt')\n",
    "stop_times_df = stop_times_df[['trip_id', 'stop_id', 'arrival_time']]\n",
    "peek(stop_times_df)"
   ]
  },
  {
   "cell_type": "code",
   "execution_count": 6,
   "id": "minimal-taxation",
   "metadata": {},
   "outputs": [],
   "source": [
    "# Convert to/from a stop sequence.\n",
    "def serialize_stop_ids(stop_ids):\n",
    "    return ','.join([str(s) for s in stop_ids])\n",
    "def deserialize_stops_key(stops_key):\n",
    "    return [int(s) for s in stops_key.split(',')]"
   ]
  },
  {
   "cell_type": "code",
   "execution_count": 7,
   "id": "chronic-contemporary",
   "metadata": {},
   "outputs": [],
   "source": [
    "# Create dictionary of trip ID to stop sequence.\n",
    "trip_id_stop_ids_dict = stop_times_df.groupby('trip_id').apply(\n",
    "    lambda x: list(x['stop_id'])).to_dict()\n",
    "\n",
    "# Serialize stop sequences.\n",
    "trip_id_stops_key_dict = {\n",
    "    trip_id: serialize_stop_ids(stop_ids)\n",
    "    for trip_id, stop_ids in trip_id_stop_ids_dict.items()\n",
    "}\n",
    "\n",
    "# Map stop sequences to list of matching trips.\n",
    "stops_key_trip_ids_dict = {}\n",
    "for trip_id, stops_key in trip_id_stops_key_dict.items():\n",
    "    if stops_key not in stops_key_trip_ids_dict:\n",
    "        stops_key_trip_ids_dict[stops_key] = []\n",
    "    stops_key_trip_ids_dict[stops_key].append(trip_id)"
   ]
  },
  {
   "cell_type": "code",
   "execution_count": 8,
   "id": "hybrid-comfort",
   "metadata": {},
   "outputs": [
    {
     "name": "stdout",
     "output_type": "stream",
     "text": [
      "29055\n"
     ]
    },
    {
     "data": {
      "text/html": [
       "<div>\n",
       "<style scoped>\n",
       "    .dataframe tbody tr th:only-of-type {\n",
       "        vertical-align: middle;\n",
       "    }\n",
       "\n",
       "    .dataframe tbody tr th {\n",
       "        vertical-align: top;\n",
       "    }\n",
       "\n",
       "    .dataframe thead th {\n",
       "        text-align: right;\n",
       "    }\n",
       "</style>\n",
       "<table border=\"1\" class=\"dataframe\">\n",
       "  <thead>\n",
       "    <tr style=\"text-align: right;\">\n",
       "      <th></th>\n",
       "      <th>route_id</th>\n",
       "      <th>service_id</th>\n",
       "      <th>trip_headsign</th>\n",
       "      <th>direction_id</th>\n",
       "      <th>shape_id</th>\n",
       "    </tr>\n",
       "    <tr>\n",
       "      <th>trip_id</th>\n",
       "      <th></th>\n",
       "      <th></th>\n",
       "      <th></th>\n",
       "      <th></th>\n",
       "      <th></th>\n",
       "    </tr>\n",
       "  </thead>\n",
       "  <tbody>\n",
       "    <tr>\n",
       "      <th>MQ_C1-Weekday-032400_M57_451</th>\n",
       "      <td>M57</td>\n",
       "      <td>MQ_C1-Weekday</td>\n",
       "      <td>WEST SIDE BROADWAY-72 ST CROSSTOWN</td>\n",
       "      <td>1</td>\n",
       "      <td>M570110</td>\n",
       "    </tr>\n",
       "    <tr>\n",
       "      <th>MQ_C1-Weekday-034000_M57_451</th>\n",
       "      <td>M57</td>\n",
       "      <td>MQ_C1-Weekday</td>\n",
       "      <td>EAST SIDE YORK-60 ST CROSSTOWN</td>\n",
       "      <td>0</td>\n",
       "      <td>M570111</td>\n",
       "    </tr>\n",
       "    <tr>\n",
       "      <th>MQ_C1-Weekday-037300_M57_451</th>\n",
       "      <td>M57</td>\n",
       "      <td>MQ_C1-Weekday</td>\n",
       "      <td>WEST SIDE BROADWAY-72 ST CROSSTOWN</td>\n",
       "      <td>1</td>\n",
       "      <td>M570109</td>\n",
       "    </tr>\n",
       "  </tbody>\n",
       "</table>\n",
       "</div>"
      ],
      "text/plain": [
       "                             route_id     service_id  \\\n",
       "trip_id                                                \n",
       "MQ_C1-Weekday-032400_M57_451      M57  MQ_C1-Weekday   \n",
       "MQ_C1-Weekday-034000_M57_451      M57  MQ_C1-Weekday   \n",
       "MQ_C1-Weekday-037300_M57_451      M57  MQ_C1-Weekday   \n",
       "\n",
       "                                                   trip_headsign  \\\n",
       "trip_id                                                            \n",
       "MQ_C1-Weekday-032400_M57_451  WEST SIDE BROADWAY-72 ST CROSSTOWN   \n",
       "MQ_C1-Weekday-034000_M57_451      EAST SIDE YORK-60 ST CROSSTOWN   \n",
       "MQ_C1-Weekday-037300_M57_451  WEST SIDE BROADWAY-72 ST CROSSTOWN   \n",
       "\n",
       "                              direction_id shape_id  \n",
       "trip_id                                              \n",
       "MQ_C1-Weekday-032400_M57_451             1  M570110  \n",
       "MQ_C1-Weekday-034000_M57_451             0  M570111  \n",
       "MQ_C1-Weekday-037300_M57_451             1  M570109  "
      ]
     },
     "metadata": {},
     "output_type": "display_data"
    }
   ],
   "source": [
    "# Extract information for each trip.\n",
    "trips_df = pd.read_csv(f'{DATA_DIR}/gtfs/manhattan/trips.txt')\n",
    "trips_df = trips_df.set_index('trip_id')\n",
    "trip_id_route_id_dict = trips_df['route_id'].to_dict()\n",
    "peek(trips_df)"
   ]
  },
  {
   "cell_type": "code",
   "execution_count": 9,
   "id": "absolute-porcelain",
   "metadata": {},
   "outputs": [
    {
     "name": "stderr",
     "output_type": "stream",
     "text": [
      "100%|██████████| 146/146 [00:13<00:00, 10.83it/s]\n"
     ]
    }
   ],
   "source": [
    "# Create sequences from map of stops and matching trips.\n",
    "sequences = [\n",
    "    Sequence(deserialize_stops_key(stops_key), trip_ids, trips_df)\n",
    "    for stops_key, trip_ids in tqdm(stops_key_trip_ids_dict.items())\n",
    "]"
   ]
  },
  {
   "cell_type": "markdown",
   "id": "numerical-royal",
   "metadata": {},
   "source": [
    "# 2. Assign Stop Locations Along Route Geometry\n",
    "\n",
    "The locations of stops are provided in `stops.txt`, but must be \"snapped\" to the closest point along a route geometry for linear referencing and time interpolation. Because stops may be shared by multiple routes, \"snapped\" stop locations may be different for each route. Therefore, a manifest of stop locations per route is calculated. If the distance between a provided stop location and its route-snapped location exceeds a distance threshold, an error is thrown to flag it as potentially inaccurate."
   ]
  },
  {
   "cell_type": "code",
   "execution_count": 10,
   "id": "impaired-gross",
   "metadata": {},
   "outputs": [
    {
     "name": "stdout",
     "output_type": "stream",
     "text": [
      "1808\n"
     ]
    },
    {
     "data": {
      "text/html": [
       "<div>\n",
       "<style scoped>\n",
       "    .dataframe tbody tr th:only-of-type {\n",
       "        vertical-align: middle;\n",
       "    }\n",
       "\n",
       "    .dataframe tbody tr th {\n",
       "        vertical-align: top;\n",
       "    }\n",
       "\n",
       "    .dataframe thead th {\n",
       "        text-align: right;\n",
       "    }\n",
       "</style>\n",
       "<table border=\"1\" class=\"dataframe\">\n",
       "  <thead>\n",
       "    <tr style=\"text-align: right;\">\n",
       "      <th></th>\n",
       "      <th>stop_lat</th>\n",
       "      <th>stop_lon</th>\n",
       "    </tr>\n",
       "    <tr>\n",
       "      <th>stop_id</th>\n",
       "      <th></th>\n",
       "      <th></th>\n",
       "    </tr>\n",
       "  </thead>\n",
       "  <tbody>\n",
       "    <tr>\n",
       "      <th>400001</th>\n",
       "      <td>40.731342</td>\n",
       "      <td>-73.990292</td>\n",
       "    </tr>\n",
       "    <tr>\n",
       "      <th>400002</th>\n",
       "      <td>40.732608</td>\n",
       "      <td>-73.989958</td>\n",
       "    </tr>\n",
       "    <tr>\n",
       "      <th>400003</th>\n",
       "      <td>40.733936</td>\n",
       "      <td>-73.989720</td>\n",
       "    </tr>\n",
       "  </tbody>\n",
       "</table>\n",
       "</div>"
      ],
      "text/plain": [
       "          stop_lat   stop_lon\n",
       "stop_id                      \n",
       "400001   40.731342 -73.990292\n",
       "400002   40.732608 -73.989958\n",
       "400003   40.733936 -73.989720"
      ]
     },
     "metadata": {},
     "output_type": "display_data"
    }
   ],
   "source": [
    "# Load stop locations into DataFrame.\n",
    "stops_df = pd.read_csv(f'{DATA_DIR}/gtfs/manhattan/stops.txt')\n",
    "stops_df = stops_df.set_index('stop_id')\n",
    "stops_df = stops_df[['stop_lat', 'stop_lon']]\n",
    "peek(stops_df)"
   ]
  },
  {
   "cell_type": "code",
   "execution_count": 11,
   "id": "worst-anatomy",
   "metadata": {},
   "outputs": [
    {
     "data": {
      "image/png": "[encoded data removed]",
      "text/plain": [
       "<Figure size 432x288 with 1 Axes>"
      ]
     },
     "metadata": {
      "needs_background": "light"
     },
     "output_type": "display_data"
    }
   ],
   "source": [
    "# Load bus route geometries into DataFrame.\n",
    "routes_gdf = gpd.read_file(f'{DATA_DIR}/shp/bus_routes_nyc_may2020.shp')\n",
    "routes_gdf = routes_gdf.to_crs(CRS_LATLON)\n",
    "routes_gdf.plot()\n",
    "plt.show()"
   ]
  },
  {
   "cell_type": "code",
   "execution_count": 12,
   "id": "opening-irish",
   "metadata": {},
   "outputs": [
    {
     "name": "stdout",
     "output_type": "stream",
     "text": [
      "# of sequences before route geometry assignement: 146\n",
      "# of sequences after route geometry assignement: 144\n"
     ]
    }
   ],
   "source": [
    "# Assign route geometries and only keep sequences with matching geometries.\n",
    "print(f'# of sequences before route geometry assignement: {len(sequences)}')\n",
    "sequences = [s for s in sequences if s.assign_route_geometry(routes_gdf)]\n",
    "print(f'# of sequences after route geometry assignement: {len(sequences)}')"
   ]
  },
  {
   "cell_type": "code",
   "execution_count": 13,
   "id": "speaking-sterling",
   "metadata": {},
   "outputs": [],
   "source": [
    "for sequence in sequences:\n",
    "    sequence.assign_stop_coords(stops_df)"
   ]
  },
  {
   "cell_type": "code",
   "execution_count": 14,
   "id": "outer-competition",
   "metadata": {},
   "outputs": [
    {
     "data": {
      "text/plain": [
       "<AxesSubplot:>"
      ]
     },
     "execution_count": 14,
     "metadata": {},
     "output_type": "execute_result"
    },
    {
     "data": {
      "image/png": "[encoded data removed]",
      "text/plain": [
       "<Figure size 432x288 with 1 Axes>"
      ]
     },
     "metadata": {
      "needs_background": "light"
     },
     "output_type": "display_data"
    }
   ],
   "source": [
    "# Check all stop coordinates by plotting.\n",
    "all_stop_coords = list(itertools.chain(*[s.stop_coords for s in sequences]))\n",
    "gpd.GeoDataFrame({}, geometry=all_stop_coords, crs=CRS_LATLON).plot(markersize=1)"
   ]
  },
  {
   "cell_type": "markdown",
   "id": "aware-geology",
   "metadata": {},
   "source": [
    "# 3. Assign Bus Arrival Times\n",
    "\n",
    "The bus arrival times by trip are collected for every stop. This allows the\n",
    "average bus travel speed between two stops belonging to the same trip to be\n",
    "estimated."
   ]
  },
  {
   "cell_type": "code",
   "execution_count": 15,
   "id": "monthly-gnome",
   "metadata": {},
   "outputs": [],
   "source": [
    "def get_datetime_from_time_string(time_string):\n",
    "    \"\"\"Returns a datetime object of the time since 1 Jan 1970 given by the\n",
    "    HH:MM:SS formatted string.\"\"\"\n",
    "    hours = int(time_string[0:2])\n",
    "    mins = int(time_string[3:5])\n",
    "    secs = int(time_string[6:8])\n",
    "    \n",
    "    # GTFS data may include hour values greater than 23 in order to indicate a\n",
    "    # time occurring on the next day.\n",
    "    if hours < 24:\n",
    "        return datetime.datetime(1970, 1, 1, hours, mins, secs)\n",
    "    return datetime.datetime(1970, 1, 2, hours % 24, mins, secs)"
   ]
  },
  {
   "cell_type": "code",
   "execution_count": 16,
   "id": "powered-staff",
   "metadata": {},
   "outputs": [],
   "source": [
    "def find_sequence(trip_id, trip_id_sequence_dict):\n",
    "    if trip_id not in trip_id_sequence_dict:\n",
    "        for sequence in sequences:\n",
    "            if sequence.has_trip_id(trip_id):\n",
    "                trip_id_sequence_dict[trip_id] = sequence\n",
    "                break\n",
    "    if trip_id not in trip_id_sequence_dict:\n",
    "        return None\n",
    "    return trip_id_sequence_dict[trip_id]"
   ]
  },
  {
   "cell_type": "code",
   "execution_count": 17,
   "id": "institutional-coalition",
   "metadata": {},
   "outputs": [],
   "source": [
    "trip_ids_and_times = list(zip(stop_times_df['trip_id'], stop_times_df['arrival_time']))"
   ]
  },
  {
   "cell_type": "code",
   "execution_count": 18,
   "id": "noted-conducting",
   "metadata": {},
   "outputs": [
    {
     "name": "stderr",
     "output_type": "stream",
     "text": [
      "100%|██████████| 934109/934109 [00:01<00:00, 607849.50it/s]\n"
     ]
    }
   ],
   "source": [
    "trip_id_sequence_dict = {}\n",
    "unmatched_trip_ids = []\n",
    "\n",
    "for (trip_id, time) in tqdm(trip_ids_and_times):\n",
    "    # Get the sequence with the given trip ID. Cache for later.\n",
    "    sequence = find_sequence(trip_id, trip_id_sequence_dict)\n",
    "    \n",
    "    if sequence:\n",
    "        # Adds time to sequence by trip ID.\n",
    "        if trip_id not in sequence.trip_times_dict:\n",
    "            sequence.trip_times_dict[trip_id] = []\n",
    "        dt = get_datetime_from_time_string(time)\n",
    "        sequence.trip_times_dict[trip_id].append(dt)\n",
    "    else:\n",
    "        unmatched_trip_ids.append(trip_id)\n",
    "\n",
    "# Logs unmatched trip IDs.\n",
    "with open(f'{LOG_DIR}/unmatched_trip_ids.json', 'w') as fp:\n",
    "    json.dump(unmatched_trip_ids, fp)"
   ]
  },
  {
   "cell_type": "markdown",
   "id": "refined-wisdom",
   "metadata": {},
   "source": [
    "# 4. Calculate Bus Average Travel Speeds\n",
    "\n",
    "The bus average travel speeds along a trip are calculated using the scheduled time duration between each stop, and the distance along the route between each stop."
   ]
  },
  {
   "cell_type": "code",
   "execution_count": 19,
   "id": "surprised-blues",
   "metadata": {},
   "outputs": [
    {
     "name": "stderr",
     "output_type": "stream",
     "text": [
      "100%|██████████| 144/144 [00:00<00:00, 297.99it/s]\n"
     ]
    }
   ],
   "source": [
    "for sequence in tqdm(sequences):\n",
    "    sequence.calculate_trip_speeds()"
   ]
  },
  {
   "cell_type": "markdown",
   "id": "secondary-introduction",
   "metadata": {},
   "source": [
    "# 5. Inspect Sample\n",
    "\n",
    "Check extracted values of sample to make sure that they are formatted as expected."
   ]
  },
  {
   "cell_type": "code",
   "execution_count": 34,
   "id": "brazilian-student",
   "metadata": {},
   "outputs": [
    {
     "data": {
      "text/plain": [
       "144"
      ]
     },
     "execution_count": 34,
     "metadata": {},
     "output_type": "execute_result"
    }
   ],
   "source": [
    "len(sequences)"
   ]
  },
  {
   "cell_type": "code",
   "execution_count": 20,
   "id": "conventional-default",
   "metadata": {},
   "outputs": [],
   "source": [
    "sample = sequences[0]"
   ]
  },
  {
   "cell_type": "markdown",
   "id": "dying-nepal",
   "metadata": {},
   "source": [
    "### 5.1 Route Information"
   ]
  },
  {
   "cell_type": "code",
   "execution_count": 21,
   "id": "functional-community",
   "metadata": {},
   "outputs": [
    {
     "data": {
      "text/plain": [
       "'M14D+'"
      ]
     },
     "execution_count": 21,
     "metadata": {},
     "output_type": "execute_result"
    }
   ],
   "source": [
    "sample.route_id"
   ]
  },
  {
   "cell_type": "code",
   "execution_count": 22,
   "id": "daily-malawi",
   "metadata": {},
   "outputs": [
    {
     "data": {
      "text/plain": [
       "0"
      ]
     },
     "execution_count": 22,
     "metadata": {},
     "output_type": "execute_result"
    }
   ],
   "source": [
    "sample.direction_id"
   ]
  },
  {
   "cell_type": "code",
   "execution_count": 23,
   "id": "partial-hygiene",
   "metadata": {},
   "outputs": [
    {
     "data": {
      "text/plain": [
       "23"
      ]
     },
     "execution_count": 23,
     "metadata": {},
     "output_type": "execute_result"
    }
   ],
   "source": [
    "sample.length"
   ]
  },
  {
   "cell_type": "code",
   "execution_count": 24,
   "id": "combined-spyware",
   "metadata": {},
   "outputs": [
    {
     "data": {
      "text/plain": [
       "[450222,\n",
       " 401507,\n",
       " 404286,\n",
       " 401575,\n",
       " 401294,\n",
       " 401577,\n",
       " 401579,\n",
       " 403556,\n",
       " 401191,\n",
       " 401192]"
      ]
     },
     "execution_count": 24,
     "metadata": {},
     "output_type": "execute_result"
    }
   ],
   "source": [
    "sample.stop_ids[0:10]"
   ]
  },
  {
   "cell_type": "markdown",
   "id": "perfect-breach",
   "metadata": {},
   "source": [
    "### 5.2 Route Geometry"
   ]
  },
  {
   "cell_type": "code",
   "execution_count": 25,
   "id": "impressive-layer",
   "metadata": {},
   "outputs": [
    {
     "data": {
      "text/plain": [
       "[<shapely.geometry.point.Point at 0x7f2acbff3790>,\n",
       " <shapely.geometry.point.Point at 0x7f2acbf7c3d0>,\n",
       " <shapely.geometry.point.Point at 0x7f2acbf7c8d0>,\n",
       " <shapely.geometry.point.Point at 0x7f2acbf7c290>,\n",
       " <shapely.geometry.point.Point at 0x7f2acbf7cf10>,\n",
       " <shapely.geometry.point.Point at 0x7f2acbf7cc90>,\n",
       " <shapely.geometry.point.Point at 0x7f2acbf7c090>,\n",
       " <shapely.geometry.point.Point at 0x7f2acbf7cfd0>,\n",
       " <shapely.geometry.point.Point at 0x7f2acbf7ce50>,\n",
       " <shapely.geometry.point.Point at 0x7f2acbf7ca10>]"
      ]
     },
     "execution_count": 25,
     "metadata": {},
     "output_type": "execute_result"
    }
   ],
   "source": [
    "sample.stop_coords[0:10]"
   ]
  },
  {
   "cell_type": "code",
   "execution_count": 26,
   "id": "professional-thunder",
   "metadata": {},
   "outputs": [
    {
     "data": {
      "image/png": "[encoded data removed]",
      "text/plain": [
       "<Figure size 432x288 with 1 Axes>"
      ]
     },
     "metadata": {
      "needs_background": "light"
     },
     "output_type": "display_data"
    }
   ],
   "source": [
    "fig, ax = plt.subplots()\n",
    "gpd.GeoDataFrame({}, geometry=[sample.route_geometry], crs=CRS_LATLON).plot(ax=ax)\n",
    "gpd.GeoDataFrame({}, geometry=sample.stop_coords, crs=CRS_LATLON).plot(ax=ax)\n",
    "plt.show()"
   ]
  },
  {
   "cell_type": "code",
   "execution_count": 27,
   "id": "pressed-giving",
   "metadata": {},
   "outputs": [
    {
     "data": {
      "text/plain": [
       "[0,\n",
       " 271.36787938318696,\n",
       " 292.7133050173731,\n",
       " 286.8859659001768,\n",
       " 373.50788045801283,\n",
       " 338.9263611280805,\n",
       " 535.8189080249559,\n",
       " 361.8084733308834,\n",
       " 260.2865006902442,\n",
       " 261.9654932902139]"
      ]
     },
     "execution_count": 27,
     "metadata": {},
     "output_type": "execute_result"
    }
   ],
   "source": [
    "sample.stop_distances[0:10]"
   ]
  },
  {
   "cell_type": "markdown",
   "id": "raised-beast",
   "metadata": {},
   "source": [
    "### 5.3 Trip Attributes"
   ]
  },
  {
   "cell_type": "code",
   "execution_count": 28,
   "id": "european-plymouth",
   "metadata": {},
   "outputs": [
    {
     "data": {
      "text/plain": [
       "695"
      ]
     },
     "execution_count": 28,
     "metadata": {},
     "output_type": "execute_result"
    }
   ],
   "source": [
    "len(sample.trip_ids)"
   ]
  },
  {
   "cell_type": "code",
   "execution_count": 29,
   "id": "greenhouse-excuse",
   "metadata": {},
   "outputs": [
    {
     "data": {
      "text/plain": [
       "['MQ_C1-Saturday-002900_SBS14_701',\n",
       " 'MQ_C1-Saturday-008900_SBS14_701',\n",
       " 'MQ_C1-Saturday-014900_SBS14_701',\n",
       " 'MQ_C1-Saturday-020900_SBS14_701',\n",
       " 'MQ_C1-Saturday-026500_SBS14_703',\n",
       " 'MQ_C1-Saturday-029500_SBS14_705',\n",
       " 'MQ_C1-Saturday-031500_SBS14_701',\n",
       " 'MQ_C1-Saturday-033000_SBS14_703',\n",
       " 'MQ_C1-Saturday-034500_SBS14_707',\n",
       " 'MQ_C1-Saturday-036000_SBS14_705']"
      ]
     },
     "execution_count": 29,
     "metadata": {},
     "output_type": "execute_result"
    }
   ],
   "source": [
    "sample.trip_ids[0:10]"
   ]
  },
  {
   "cell_type": "markdown",
   "id": "unlikely-latitude",
   "metadata": {},
   "source": [
    "#### Arrival times"
   ]
  },
  {
   "cell_type": "code",
   "execution_count": 30,
   "id": "great-alcohol",
   "metadata": {},
   "outputs": [
    {
     "data": {
      "text/plain": [
       "[('MQ_C1-Weekday-003000_SBS14_701',\n",
       "  ['00:30:00', '00:31:20', '00:33:00', '00:33:56', '00:35:26']),\n",
       " ('MQ_C1-Weekday-009200_SBS14_701',\n",
       "  ['01:32:00', '01:32:53', '01:34:00', '01:34:48', '01:36:05']),\n",
       " ('MQ_C1-Weekday-015200_SBS14_701',\n",
       "  ['02:32:00', '02:32:53', '02:34:00', '02:34:48', '02:36:05']),\n",
       " ('MQ_C1-Weekday-021200_SBS14_701',\n",
       "  ['03:32:00', '03:32:53', '03:34:00', '03:34:48', '03:36:05']),\n",
       " ('MQ_C1-Weekday-027000_SBS14_701',\n",
       "  ['04:30:00', '04:30:53', '04:32:00', '04:32:48', '04:34:05']),\n",
       " ('MQ_C1-Weekday-037100_SBS14_716',\n",
       "  ['06:11:00', '06:11:53', '06:13:00', '06:13:56', '06:15:26']),\n",
       " ('MQ_C1-Weekday-025500_SBS14_703',\n",
       "  ['04:15:00', '04:15:53', '04:17:00', '04:17:48', '04:19:05']),\n",
       " ('MQ_C1-Weekday-032000_SBS14_703',\n",
       "  ['05:20:00', '05:20:53', '05:22:00', '05:22:48', '05:24:05']),\n",
       " ('MQ_C1-Weekday-040600_SBS14_711',\n",
       "  ['06:46:00', '06:47:20', '06:49:00', '06:50:12', '06:52:08']),\n",
       " ('MQ_C1-Weekday-049700_SBS14_727',\n",
       "  ['08:17:00', '08:18:47', '08:21:00', '08:22:12', '08:24:08'])]"
      ]
     },
     "execution_count": 30,
     "metadata": {},
     "output_type": "execute_result"
    }
   ],
   "source": [
    "[(k, [t.isoformat()[11:] for t in v[0:5]]) for [k, v] in list(sample.trip_times_dict.items())[0:10]]"
   ]
  },
  {
   "cell_type": "markdown",
   "id": "decreased-currency",
   "metadata": {},
   "source": [
    "#### Time durations between stops"
   ]
  },
  {
   "cell_type": "code",
   "execution_count": 31,
   "id": "cathedral-focus",
   "metadata": {},
   "outputs": [
    {
     "data": {
      "text/plain": [
       "[('MQ_C1-Weekday-003000_SBS14_701',\n",
       "  [0, 80.0, 100.0, 56.0, 90.0, 75.0, 119.0, 80.0, 54.0, 53.0]),\n",
       " ('MQ_C1-Weekday-009200_SBS14_701',\n",
       "  [0, 53.0, 67.0, 48.0, 77.0, 65.0, 101.0, 69.0, 39.0, 40.0]),\n",
       " ('MQ_C1-Weekday-015200_SBS14_701',\n",
       "  [0, 53.0, 67.0, 48.0, 77.0, 65.0, 101.0, 69.0, 39.0, 40.0]),\n",
       " ('MQ_C1-Weekday-021200_SBS14_701',\n",
       "  [0, 53.0, 67.0, 48.0, 77.0, 65.0, 101.0, 69.0, 39.0, 40.0]),\n",
       " ('MQ_C1-Weekday-027000_SBS14_701',\n",
       "  [0, 53.0, 67.0, 48.0, 77.0, 65.0, 101.0, 69.0, 46.0, 47.0]),\n",
       " ('MQ_C1-Weekday-037100_SBS14_716',\n",
       "  [0, 53.0, 67.0, 56.0, 90.0, 75.0, 119.0, 80.0, 54.0, 53.0]),\n",
       " ('MQ_C1-Weekday-025500_SBS14_703',\n",
       "  [0, 53.0, 67.0, 48.0, 77.0, 65.0, 101.0, 69.0, 39.0, 40.0]),\n",
       " ('MQ_C1-Weekday-032000_SBS14_703',\n",
       "  [0, 53.0, 67.0, 48.0, 77.0, 65.0, 101.0, 69.0, 46.0, 47.0]),\n",
       " ('MQ_C1-Weekday-040600_SBS14_711',\n",
       "  [0, 80.0, 100.0, 72.0, 116.0, 97.0, 152.0, 103.0, 57.0, 57.0]),\n",
       " ('MQ_C1-Weekday-049700_SBS14_727',\n",
       "  [0, 107.0, 133.0, 72.0, 116.0, 97.0, 152.0, 103.0, 68.0, 68.0])]"
      ]
     },
     "execution_count": 31,
     "metadata": {},
     "output_type": "execute_result"
    }
   ],
   "source": [
    "[(k, v[0:10]) for [k, v] in list(sample.trip_durations_dict.items())[0:10]]"
   ]
  },
  {
   "cell_type": "markdown",
   "id": "confused-administrator",
   "metadata": {},
   "source": [
    "#### Average travel speeds between stops"
   ]
  },
  {
   "cell_type": "code",
   "execution_count": 32,
   "id": "wooden-proceeding",
   "metadata": {},
   "outputs": [
    {
     "data": {
      "text/plain": [
       "[('MQ_C1-Weekday-003000_SBS14_701',\n",
       "  [0, 3.39, 2.93, 5.12, 4.15, 4.52, 4.5, 4.52, 4.82, 4.94]),\n",
       " ('MQ_C1-Weekday-009200_SBS14_701',\n",
       "  [0, 5.12, 4.37, 5.98, 4.85, 5.21, 5.31, 5.24, 6.67, 6.55]),\n",
       " ('MQ_C1-Weekday-015200_SBS14_701',\n",
       "  [0, 5.12, 4.37, 5.98, 4.85, 5.21, 5.31, 5.24, 6.67, 6.55]),\n",
       " ('MQ_C1-Weekday-021200_SBS14_701',\n",
       "  [0, 5.12, 4.37, 5.98, 4.85, 5.21, 5.31, 5.24, 6.67, 6.55]),\n",
       " ('MQ_C1-Weekday-027000_SBS14_701',\n",
       "  [0, 5.12, 4.37, 5.98, 4.85, 5.21, 5.31, 5.24, 5.66, 5.57]),\n",
       " ('MQ_C1-Weekday-037100_SBS14_716',\n",
       "  [0, 5.12, 4.37, 5.12, 4.15, 4.52, 4.5, 4.52, 4.82, 4.94]),\n",
       " ('MQ_C1-Weekday-025500_SBS14_703',\n",
       "  [0, 5.12, 4.37, 5.98, 4.85, 5.21, 5.31, 5.24, 6.67, 6.55]),\n",
       " ('MQ_C1-Weekday-032000_SBS14_703',\n",
       "  [0, 5.12, 4.37, 5.98, 4.85, 5.21, 5.31, 5.24, 5.66, 5.57]),\n",
       " ('MQ_C1-Weekday-040600_SBS14_711',\n",
       "  [0, 3.39, 2.93, 3.98, 3.22, 3.49, 3.53, 3.51, 4.57, 4.6]),\n",
       " ('MQ_C1-Weekday-049700_SBS14_727',\n",
       "  [0, 2.54, 2.2, 3.98, 3.22, 3.49, 3.53, 3.51, 3.83, 3.85])]"
      ]
     },
     "execution_count": 32,
     "metadata": {},
     "output_type": "execute_result"
    }
   ],
   "source": [
    "[(k, [round(s, 2)\n",
    "      for s in v[0:10]])\n",
    " for [k, v] in list(sample.trip_speeds_dict.items())[0:10]]"
   ]
  },
  {
   "cell_type": "markdown",
   "id": "moral-craps",
   "metadata": {},
   "source": [
    "# 6. Export Results\n",
    "\n",
    "Preserve in JSON format for flexible object creation."
   ]
  },
  {
   "cell_type": "code",
   "execution_count": 33,
   "id": "sorted-prescription",
   "metadata": {},
   "outputs": [],
   "source": [
    "sequence_dicts = [s.to_dict() for s in sequences]\n",
    "with open(f'{EXPORTS_DIR}/json/manhattan/sequence_dicts.json', 'w') as fp:\n",
    "    json.dump(sequence_dicts, fp)"
   ]
  }
 ],
 "metadata": {
  "kernelspec": {
   "display_name": "Python 3",
   "language": "python",
   "name": "python3"
  },
  "language_info": {
   "codemirror_mode": {
    "name": "ipython",
    "version": 3
   },
   "file_extension": ".py",
   "mimetype": "text/x-python",
   "name": "python",
   "nbconvert_exporter": "python",
   "pygments_lexer": "ipython3",
   "version": "3.7.6"
  }
 },
 "nbformat": 4,
 "nbformat_minor": 5
}
